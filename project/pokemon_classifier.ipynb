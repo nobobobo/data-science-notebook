{
 "cells": [
  {
   "cell_type": "markdown",
   "metadata": {},
   "source": [
    "# Pokemon Type Classifier \n",
    "\n",
    "This kernel builds and evaluates a classifier that predicts Pokemon's primary type (e.g. grass, fire, water ...) based on its ability points (e.g. hp, attack, defense ...). \n",
    "\n",
    "Main libraries I used are Pandas for data preprocesses, and scikit-learn for modeling a multi-class classifier.\n",
    "\n",
    "The training and testing datasets is [\"pokemon.csv\" provided by Kaggle](https://www.kaggle.com/rounakbanik/pokemon?select=pokemon.csv)."
   ]
  },
  {
   "cell_type": "markdown",
   "metadata": {},
   "source": [
    "## Set up \n",
    "install and import libraries"
   ]
  },
  {
   "cell_type": "code",
   "execution_count": 2,
   "metadata": {},
   "outputs": [
    {
     "output_type": "stream",
     "name": "stdout",
     "text": "Requirement already satisfied: seaborn in /Users/nobo/opt/anaconda3/envs/machine-learning/lib/python3.7/site-packages (0.10.1)\nRequirement already satisfied: matplotlib>=2.1.2 in /Users/nobo/opt/anaconda3/envs/machine-learning/lib/python3.7/site-packages (from seaborn) (3.2.1)\nRequirement already satisfied: pandas>=0.22.0 in /Users/nobo/opt/anaconda3/envs/machine-learning/lib/python3.7/site-packages (from seaborn) (0.25.3)\nRequirement already satisfied: scipy>=1.0.1 in /Users/nobo/opt/anaconda3/envs/machine-learning/lib/python3.7/site-packages (from seaborn) (1.4.1)\nRequirement already satisfied: numpy>=1.13.3 in /Users/nobo/opt/anaconda3/envs/machine-learning/lib/python3.7/site-packages (from seaborn) (1.18.4)\nRequirement already satisfied: python-dateutil>=2.1 in /Users/nobo/opt/anaconda3/envs/machine-learning/lib/python3.7/site-packages (from matplotlib>=2.1.2->seaborn) (2.8.1)\nRequirement already satisfied: cycler>=0.10 in /Users/nobo/opt/anaconda3/envs/machine-learning/lib/python3.7/site-packages (from matplotlib>=2.1.2->seaborn) (0.10.0)\nRequirement already satisfied: kiwisolver>=1.0.1 in /Users/nobo/opt/anaconda3/envs/machine-learning/lib/python3.7/site-packages (from matplotlib>=2.1.2->seaborn) (1.2.0)\nRequirement already satisfied: pyparsing!=2.0.4,!=2.1.2,!=2.1.6,>=2.0.1 in /Users/nobo/opt/anaconda3/envs/machine-learning/lib/python3.7/site-packages (from matplotlib>=2.1.2->seaborn) (2.4.7)\nRequirement already satisfied: pytz>=2017.2 in /Users/nobo/opt/anaconda3/envs/machine-learning/lib/python3.7/site-packages (from pandas>=0.22.0->seaborn) (2020.1)\nRequirement already satisfied: six>=1.5 in /Users/nobo/opt/anaconda3/envs/machine-learning/lib/python3.7/site-packages (from python-dateutil>=2.1->matplotlib>=2.1.2->seaborn) (1.14.0)\nRequirement already satisfied: scipy in /Users/nobo/opt/anaconda3/envs/machine-learning/lib/python3.7/site-packages (1.4.1)\nRequirement already satisfied: numpy>=1.13.3 in /Users/nobo/opt/anaconda3/envs/machine-learning/lib/python3.7/site-packages (from scipy) (1.18.4)\nRequirement already satisfied: scikit-learn in /Users/nobo/opt/anaconda3/envs/machine-learning/lib/python3.7/site-packages (0.22.2.post1)\nRequirement already satisfied: numpy>=1.11.0 in /Users/nobo/opt/anaconda3/envs/machine-learning/lib/python3.7/site-packages (from scikit-learn) (1.18.4)\nRequirement already satisfied: scipy>=0.17.0 in /Users/nobo/opt/anaconda3/envs/machine-learning/lib/python3.7/site-packages (from scikit-learn) (1.4.1)\nRequirement already satisfied: joblib>=0.11 in /Users/nobo/opt/anaconda3/envs/machine-learning/lib/python3.7/site-packages (from scikit-learn) (0.15.1)\n"
    }
   ],
   "source": [
    "!pip install seaborn\n",
    "!pip install scipy\n",
    "!pip install scikit-learn"
   ]
  },
  {
   "cell_type": "code",
   "execution_count": 3,
   "metadata": {},
   "outputs": [],
   "source": [
    "%matplotlib inline\n",
    "import numpy as np\n",
    "import matplotlib.pyplot as plt\n",
    "import seaborn\n",
    "import pandas as pd\n",
    "from sklearn.model_selection import train_test_split\n",
    "from sklearn.model_selection import cross_val_score\n",
    "from sklearn.model_selection import KFold\n",
    "from sklearn.neighbors import KNeighborsClassifier\n",
    "from sklearn.tree import DecisionTreeClassifier\n",
    "from sklearn.svm import SVC\n",
    "from sklearn.ensemble import RandomForestClassifier\n",
    "from scipy import stats\n",
    "import pylab as pl\n",
    "\n",
    "seaborn.set()"
   ]
  },
  {
   "cell_type": "markdown",
   "metadata": {},
   "source": [
    "## Data Preprocess"
   ]
  },
  {
   "cell_type": "markdown",
   "metadata": {},
   "source": [
    "### Data overview"
   ]
  },
  {
   "cell_type": "code",
   "execution_count": 4,
   "metadata": {},
   "outputs": [],
   "source": [
    "data = pd.read_csv(\"../assets/csv/pokemon.csv\", index_col='pokedex_number')"
   ]
  },
  {
   "cell_type": "code",
   "execution_count": 5,
   "metadata": {},
   "outputs": [
    {
     "output_type": "execute_result",
     "data": {
      "text/plain": "<bound method NDFrame.head of                                   abilities  against_bug  against_dark  \\\npokedex_number                                                           \n1               ['Overgrow', 'Chlorophyll']         1.00           1.0   \n2               ['Overgrow', 'Chlorophyll']         1.00           1.0   \n3               ['Overgrow', 'Chlorophyll']         1.00           1.0   \n4                  ['Blaze', 'Solar Power']         0.50           1.0   \n5                  ['Blaze', 'Solar Power']         0.50           1.0   \n...                                     ...          ...           ...   \n797                         ['Beast Boost']         0.25           1.0   \n798                         ['Beast Boost']         1.00           1.0   \n799                         ['Beast Boost']         2.00           0.5   \n800                         ['Prism Armor']         2.00           2.0   \n801                          ['Soul-Heart']         0.25           0.5   \n\n                against_dragon  against_electric  against_fairy  \\\npokedex_number                                                    \n1                          1.0               0.5            0.5   \n2                          1.0               0.5            0.5   \n3                          1.0               0.5            0.5   \n4                          1.0               1.0            0.5   \n5                          1.0               1.0            0.5   \n...                        ...               ...            ...   \n797                        0.5               2.0            0.5   \n798                        0.5               0.5            0.5   \n799                        2.0               0.5            4.0   \n800                        1.0               1.0            1.0   \n801                        0.0               1.0            0.5   \n\n                against_fight  against_fire  against_flying  against_ghost  \\\npokedex_number                                                               \n1                         0.5           2.0             2.0            1.0   \n2                         0.5           2.0             2.0            1.0   \n3                         0.5           2.0             2.0            1.0   \n4                         1.0           0.5             1.0            1.0   \n5                         1.0           0.5             1.0            1.0   \n...                       ...           ...             ...            ...   \n797                       1.0           2.0             0.5            1.0   \n798                       2.0           4.0             1.0            1.0   \n799                       2.0           0.5             1.0            0.5   \n800                       0.5           1.0             1.0            2.0   \n801                       1.0           2.0             0.5            1.0   \n\n                ...        name  percentage_male  sp_attack  sp_defense  \\\npokedex_number  ...                                                       \n1               ...   Bulbasaur             88.1         65          65   \n2               ...     Ivysaur             88.1         80          80   \n3               ...    Venusaur             88.1        122         120   \n4               ...  Charmander             88.1         60          50   \n5               ...  Charmeleon             88.1         80          65   \n...             ...         ...              ...        ...         ...   \n797             ...  Celesteela              NaN        107         101   \n798             ...     Kartana              NaN         59          31   \n799             ...    Guzzlord              NaN         97          53   \n800             ...    Necrozma              NaN        127          89   \n801             ...    Magearna              NaN        130         115   \n\n                speed    type1   type2  weight_kg  generation  is_legendary  \npokedex_number                                                               \n1                  45    grass  poison        6.9           1             0  \n2                  60    grass  poison       13.0           1             0  \n3                  80    grass  poison      100.0           1             0  \n4                  65     fire     NaN        8.5           1             0  \n5                  80     fire     NaN       19.0           1             0  \n...               ...      ...     ...        ...         ...           ...  \n797                61    steel  flying      999.9           7             1  \n798               109    grass   steel        0.1           7             1  \n799                43     dark  dragon      888.0           7             1  \n800                79  psychic     NaN      230.0           7             1  \n801                65    steel   fairy       80.5           7             1  \n\n[801 rows x 40 columns]>"
     },
     "metadata": {},
     "execution_count": 5
    }
   ],
   "source": [
    "data.head"
   ]
  },
  {
   "cell_type": "code",
   "execution_count": 6,
   "metadata": {},
   "outputs": [
    {
     "output_type": "execute_result",
     "data": {
      "text/plain": "Index(['abilities', 'against_bug', 'against_dark', 'against_dragon',\n       'against_electric', 'against_fairy', 'against_fight', 'against_fire',\n       'against_flying', 'against_ghost', 'against_grass', 'against_ground',\n       'against_ice', 'against_normal', 'against_poison', 'against_psychic',\n       'against_rock', 'against_steel', 'against_water', 'attack',\n       'base_egg_steps', 'base_happiness', 'base_total', 'capture_rate',\n       'classfication', 'defense', 'experience_growth', 'height_m', 'hp',\n       'japanese_name', 'name', 'percentage_male', 'sp_attack', 'sp_defense',\n       'speed', 'type1', 'type2', 'weight_kg', 'generation', 'is_legendary'],\n      dtype='object')"
     },
     "metadata": {},
     "execution_count": 6
    }
   ],
   "source": [
    "data.columns"
   ]
  },
  {
   "cell_type": "markdown",
   "metadata": {},
   "source": [
    "The dataframe has many columns. For the classifier, we need the column value for 'type1' as a target class, also possible main features are 'hp','attack','defense', 'sp_attack', 'sp_defense', and 'speed'."
   ]
  },
  {
   "cell_type": "code",
   "execution_count": 7,
   "metadata": {},
   "outputs": [
    {
     "output_type": "stream",
     "name": "stdout",
     "text": "<class 'pandas.core.frame.DataFrame'>\nInt64Index: 801 entries, 1 to 801\nData columns (total 40 columns):\nabilities            801 non-null object\nagainst_bug          801 non-null float64\nagainst_dark         801 non-null float64\nagainst_dragon       801 non-null float64\nagainst_electric     801 non-null float64\nagainst_fairy        801 non-null float64\nagainst_fight        801 non-null float64\nagainst_fire         801 non-null float64\nagainst_flying       801 non-null float64\nagainst_ghost        801 non-null float64\nagainst_grass        801 non-null float64\nagainst_ground       801 non-null float64\nagainst_ice          801 non-null float64\nagainst_normal       801 non-null float64\nagainst_poison       801 non-null float64\nagainst_psychic      801 non-null float64\nagainst_rock         801 non-null float64\nagainst_steel        801 non-null float64\nagainst_water        801 non-null float64\nattack               801 non-null int64\nbase_egg_steps       801 non-null int64\nbase_happiness       801 non-null int64\nbase_total           801 non-null int64\ncapture_rate         801 non-null object\nclassfication        801 non-null object\ndefense              801 non-null int64\nexperience_growth    801 non-null int64\nheight_m             781 non-null float64\nhp                   801 non-null int64\njapanese_name        801 non-null object\nname                 801 non-null object\npercentage_male      703 non-null float64\nsp_attack            801 non-null int64\nsp_defense           801 non-null int64\nspeed                801 non-null int64\ntype1                801 non-null object\ntype2                417 non-null object\nweight_kg            781 non-null float64\ngeneration           801 non-null int64\nis_legendary         801 non-null int64\ndtypes: float64(21), int64(12), object(7)\nmemory usage: 256.6+ KB\n"
    }
   ],
   "source": [
    "data.info()"
   ]
  },
  {
   "cell_type": "markdown",
   "metadata": {},
   "source": [
    "There're 801 kinds of pokemon, all of them having type1 but only 417 have type2. \n",
    "I will choose the type1 as the primary type of the pokemon, ignoring the type2."
   ]
  },
  {
   "cell_type": "markdown",
   "metadata": {},
   "source": []
  },
  {
   "cell_type": "markdown",
   "metadata": {},
   "source": [
    "### Define target variable (class)"
   ]
  },
  {
   "cell_type": "code",
   "execution_count": 8,
   "metadata": {},
   "outputs": [
    {
     "output_type": "execute_result",
     "data": {
      "text/plain": "count       801\nunique       18\ntop       water\nfreq        114\nName: type1, dtype: object"
     },
     "metadata": {},
     "execution_count": 8
    }
   ],
   "source": [
    "type = data['type1']\n",
    "type.describe()"
   ]
  },
  {
   "cell_type": "markdown",
   "metadata": {},
   "source": [
    "There're 18 unique types for pokemons"
   ]
  },
  {
   "cell_type": "code",
   "execution_count": 9,
   "metadata": {},
   "outputs": [
    {
     "output_type": "execute_result",
     "data": {
      "text/plain": "water       114\nnormal      105\ngrass        78\nbug          72\npsychic      53\nfire         52\nrock         45\nelectric     39\npoison       32\nground       32\ndark         29\nfighting     28\nghost        27\ndragon       27\nsteel        24\nice          23\nfairy        18\nflying        3\nName: type1, dtype: int64"
     },
     "metadata": {},
     "execution_count": 9
    }
   ],
   "source": [
    "type.value_counts()"
   ]
  },
  {
   "cell_type": "markdown",
   "metadata": {},
   "source": [
    "Top 3 types are water, normal, and grass. "
   ]
  },
  {
   "cell_type": "markdown",
   "metadata": {},
   "source": [
    "### Define feature variables\n",
    "\n",
    "As feature variables used to classify each pokemon's primary type, I choose hp, attack, defense, sp_attack, sp_defense, speed for the initial classification. "
   ]
  },
  {
   "cell_type": "code",
   "execution_count": 10,
   "metadata": {},
   "outputs": [
    {
     "output_type": "stream",
     "name": "stdout",
     "text": "<class 'pandas.core.frame.DataFrame'>\nInt64Index: 801 entries, 1 to 801\nData columns (total 6 columns):\nhp            801 non-null int64\nattack        801 non-null int64\ndefense       801 non-null int64\nsp_attack     801 non-null int64\nsp_defense    801 non-null int64\nspeed         801 non-null int64\ndtypes: int64(6)\nmemory usage: 43.8 KB\n"
    }
   ],
   "source": [
    "X = data.loc[:,['hp','attack','defense','sp_attack', 'sp_defense', 'speed']]\n",
    "X.info()"
   ]
  },
  {
   "cell_type": "markdown",
   "metadata": {},
   "source": [
    "**Great!**  Successfully got the features having no null entity"
   ]
  },
  {
   "cell_type": "markdown",
   "metadata": {},
   "source": [
    "### Split data into train and test data"
   ]
  },
  {
   "cell_type": "code",
   "execution_count": 13,
   "metadata": {},
   "outputs": [
    {
     "output_type": "execute_result",
     "data": {
      "text/plain": "pokedex_number\n1        grass\n2        grass\n3        grass\n4         fire\n5         fire\n        ...   \n797      steel\n798      grass\n799       dark\n800    psychic\n801      steel\nName: type1, Length: 801, dtype: object"
     },
     "metadata": {},
     "execution_count": 13
    }
   ],
   "source": [
    "type"
   ]
  },
  {
   "cell_type": "code",
   "execution_count": 14,
   "metadata": {},
   "outputs": [],
   "source": [
    "from sklearn.model_selection import train_test_split\n",
    "\n",
    "X_train, X_test, y_train, y_test = train_test_split(X, type, random_state=1)"
   ]
  },
  {
   "cell_type": "code",
   "execution_count": 18,
   "metadata": {},
   "outputs": [
    {
     "output_type": "execute_result",
     "data": {
      "text/plain": "<bound method NDFrame.head of                  hp  attack  defense  sp_attack  sp_defense  speed\npokedex_number                                                    \n788              70      75      115         95         130     85\n786              70      85       75        130         115     95\n450             108     112      118         68          72     47\n190              55      70       55         40          55     85\n495              45      45       55         45          55     63\n...             ...     ...      ...        ...         ...    ...\n716             126     131       95        131          98     99\n768              75     125      140         60          90     40\n73               80      70       65         80         120    100\n236              35      35       35         35          35     35\n38               73      67       75         81         100    109\n\n[600 rows x 6 columns]>"
     },
     "metadata": {},
     "execution_count": 18
    }
   ],
   "source": [
    "X_train.head"
   ]
  },
  {
   "cell_type": "code",
   "execution_count": 19,
   "metadata": {},
   "outputs": [
    {
     "output_type": "execute_result",
     "data": {
      "text/plain": "<bound method NDFrame.head of pokedex_number\n788       water\n786     psychic\n450      ground\n190      normal\n495       grass\n         ...   \n716       fairy\n768         bug\n73        water\n236    fighting\n38         fire\nName: type1, Length: 600, dtype: object>"
     },
     "metadata": {},
     "execution_count": 19
    }
   ],
   "source": [
    "y_train.head"
   ]
  },
  {
   "cell_type": "markdown",
   "metadata": {},
   "source": [
    "From the index, we can know the features array and the target array have identical index, so that these data can be used to train/test the classifier"
   ]
  },
  {
   "cell_type": "markdown",
   "metadata": {},
   "source": [
    "## Choose a model\n",
    "\n",
    "First of all, I am going to compare couple classifiers provided in scikit-learn by it's cross-validated score"
   ]
  },
  {
   "cell_type": "code",
   "execution_count": null,
   "metadata": {},
   "outputs": [],
   "source": []
  },
  {
   "cell_type": "markdown",
   "metadata": {},
   "source": [
    "## Fit and evaluate the classifier"
   ]
  },
  {
   "cell_type": "markdown",
   "metadata": {},
   "source": [
    "## Evaluate with test data"
   ]
  },
  {
   "cell_type": "markdown",
   "metadata": {},
   "source": [
    "## Conclusion"
   ]
  }
 ],
 "metadata": {
  "language_info": {
   "codemirror_mode": {
    "name": "ipython",
    "version": 3
   },
   "file_extension": ".py",
   "mimetype": "text/x-python",
   "name": "python",
   "nbconvert_exporter": "python",
   "pygments_lexer": "ipython3",
   "version": "3.7.7-final"
  },
  "orig_nbformat": 2,
  "kernelspec": {
   "name": "python37764bitmachinelearningconda5d2ece389eb44f258ccb0f73c676703c",
   "display_name": "Python 3.7.7 64-bit ('machine-learning': conda)"
  }
 },
 "nbformat": 4,
 "nbformat_minor": 2
}