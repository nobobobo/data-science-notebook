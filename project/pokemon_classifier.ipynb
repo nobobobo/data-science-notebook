{
 "cells": [
  {
   "cell_type": "markdown",
   "metadata": {},
   "source": [
    "# Pokemon Type Classifier \n",
    "\n",
    "This kernel builds and evaluates a classifier that predicts Pokemon's primary type (e.g. grass, fire, water ...) based on its ability points (e.g. hp, attack, defense ...). \n",
    "\n",
    "Main libraries I used are Pandas for data preprocesses, and scikit-learn for modeling a multi-class classifier.\n",
    "\n",
    "The training and testing datasets is [\"pokemon.csv\" provided by Kaggle](https://www.kaggle.com/rounakbanik/pokemon?select=pokemon.csv)."
   ]
  },
  {
   "cell_type": "markdown",
   "metadata": {},
   "source": [
    "## Set up \n",
    "install and import libraries"
   ]
  },
  {
   "cell_type": "code",
   "execution_count": 3,
   "metadata": {},
   "outputs": [
    {
     "output_type": "stream",
     "name": "stdout",
     "text": "Requirement already satisfied: seaborn in /Users/nobo/opt/anaconda3/envs/machine-learning/lib/python3.7/site-packages (0.10.1)\nRequirement already satisfied: scipy>=1.0.1 in /Users/nobo/opt/anaconda3/envs/machine-learning/lib/python3.7/site-packages (from seaborn) (1.4.1)\nRequirement already satisfied: pandas>=0.22.0 in /Users/nobo/opt/anaconda3/envs/machine-learning/lib/python3.7/site-packages (from seaborn) (0.25.3)\nRequirement already satisfied: numpy>=1.13.3 in /Users/nobo/opt/anaconda3/envs/machine-learning/lib/python3.7/site-packages (from seaborn) (1.18.4)\nRequirement already satisfied: matplotlib>=2.1.2 in /Users/nobo/opt/anaconda3/envs/machine-learning/lib/python3.7/site-packages (from seaborn) (3.2.1)\nRequirement already satisfied: pytz>=2017.2 in /Users/nobo/opt/anaconda3/envs/machine-learning/lib/python3.7/site-packages (from pandas>=0.22.0->seaborn) (2020.1)\nRequirement already satisfied: python-dateutil>=2.6.1 in /Users/nobo/opt/anaconda3/envs/machine-learning/lib/python3.7/site-packages (from pandas>=0.22.0->seaborn) (2.8.1)\nRequirement already satisfied: kiwisolver>=1.0.1 in /Users/nobo/opt/anaconda3/envs/machine-learning/lib/python3.7/site-packages (from matplotlib>=2.1.2->seaborn) (1.2.0)\nRequirement already satisfied: pyparsing!=2.0.4,!=2.1.2,!=2.1.6,>=2.0.1 in /Users/nobo/opt/anaconda3/envs/machine-learning/lib/python3.7/site-packages (from matplotlib>=2.1.2->seaborn) (2.4.7)\nRequirement already satisfied: cycler>=0.10 in /Users/nobo/opt/anaconda3/envs/machine-learning/lib/python3.7/site-packages (from matplotlib>=2.1.2->seaborn) (0.10.0)\nRequirement already satisfied: six>=1.5 in /Users/nobo/opt/anaconda3/envs/machine-learning/lib/python3.7/site-packages (from python-dateutil>=2.6.1->pandas>=0.22.0->seaborn) (1.14.0)\nRequirement already satisfied: scipy in /Users/nobo/opt/anaconda3/envs/machine-learning/lib/python3.7/site-packages (1.4.1)\nRequirement already satisfied: numpy>=1.13.3 in /Users/nobo/opt/anaconda3/envs/machine-learning/lib/python3.7/site-packages (from scipy) (1.18.4)\nRequirement already satisfied: scikit-learn in /Users/nobo/opt/anaconda3/envs/machine-learning/lib/python3.7/site-packages (0.22.2.post1)\nRequirement already satisfied: joblib>=0.11 in /Users/nobo/opt/anaconda3/envs/machine-learning/lib/python3.7/site-packages (from scikit-learn) (0.15.1)\nRequirement already satisfied: scipy>=0.17.0 in /Users/nobo/opt/anaconda3/envs/machine-learning/lib/python3.7/site-packages (from scikit-learn) (1.4.1)\nRequirement already satisfied: numpy>=1.11.0 in /Users/nobo/opt/anaconda3/envs/machine-learning/lib/python3.7/site-packages (from scikit-learn) (1.18.4)\n"
    }
   ],
   "source": [
    "!pip install seaborn\n",
    "!pip install scipy\n",
    "!pip install scikit-learn"
   ]
  },
  {
   "cell_type": "code",
   "execution_count": 6,
   "metadata": {},
   "outputs": [],
   "source": [
    "%matplotlib inline\n",
    "import numpy as np\n",
    "import matplotlib.pyplot as plt\n",
    "import seaborn\n",
    "import pandas as pd\n",
    "from sklearn.linear_model import LinearRegression\n",
    "from scipy import stats\n",
    "import pylab as pl\n",
    "\n",
    "seaborn.set()"
   ]
  },
  {
   "cell_type": "markdown",
   "metadata": {},
   "source": [
    "## Data Preprocess"
   ]
  },
  {
   "cell_type": "code",
   "execution_count": 7,
   "metadata": {},
   "outputs": [],
   "source": [
    "rowData = pd.read_csv(\"../assets/csv/pokemon.csv\")"
   ]
  },
  {
   "cell_type": "code",
   "execution_count": 10,
   "metadata": {},
   "outputs": [
    {
     "output_type": "execute_result",
     "data": {
      "text/plain": "Index(['abilities', 'against_bug', 'against_dark', 'against_dragon',\n       'against_electric', 'against_fairy', 'against_fight', 'against_fire',\n       'against_flying', 'against_ghost', 'against_grass', 'against_ground',\n       'against_ice', 'against_normal', 'against_poison', 'against_psychic',\n       'against_rock', 'against_steel', 'against_water', 'attack',\n       'base_egg_steps', 'base_happiness', 'base_total', 'capture_rate',\n       'classfication', 'defense', 'experience_growth', 'height_m', 'hp',\n       'japanese_name', 'name', 'percentage_male', 'pokedex_number',\n       'sp_attack', 'sp_defense', 'speed', 'type1', 'type2', 'weight_kg',\n       'generation', 'is_legendary'],\n      dtype='object')"
     },
     "metadata": {},
     "execution_count": 10
    }
   ],
   "source": [
    "rowData.columns"
   ]
  },
  {
   "cell_type": "markdown",
   "metadata": {},
   "source": [
    "## Choose a model"
   ]
  },
  {
   "cell_type": "markdown",
   "metadata": {},
   "source": [
    "## Fit and evaluate the classifier"
   ]
  },
  {
   "cell_type": "markdown",
   "metadata": {},
   "source": [
    "## Evaluate with test data"
   ]
  },
  {
   "cell_type": "markdown",
   "metadata": {},
   "source": [
    "## Conclusion"
   ]
  }
 ],
 "metadata": {
  "language_info": {
   "codemirror_mode": {
    "name": "ipython",
    "version": 3
   },
   "file_extension": ".py",
   "mimetype": "text/x-python",
   "name": "python",
   "nbconvert_exporter": "python",
   "pygments_lexer": "ipython3",
   "version": "3.7.7-final"
  },
  "orig_nbformat": 2,
  "kernelspec": {
   "name": "python37764bitmachinelearningconda5d2ece389eb44f258ccb0f73c676703c",
   "display_name": "Python 3.7.7 64-bit ('machine-learning': conda)"
  }
 },
 "nbformat": 4,
 "nbformat_minor": 2
}