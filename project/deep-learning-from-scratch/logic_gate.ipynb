{
 "cells": [
  {
   "cell_type": "markdown",
   "metadata": {},
   "source": [
    "# Building Logic Gate "
   ]
  },
  {
   "cell_type": "code",
   "execution_count": 1,
   "metadata": {},
   "outputs": [],
   "source": [
    "import numpy as np"
   ]
  },
  {
   "cell_type": "markdown",
   "metadata": {},
   "source": [
    "## AND Gate: "
   ]
  },
  {
   "cell_type": "code",
   "execution_count": 2,
   "metadata": {},
   "outputs": [],
   "source": [
    "def AND(x1, x2):\n",
    "    x = np.array([x1, x2])\n",
    "    w = np.array([0.5, 0.5])\n",
    "    b = -0.7\n",
    "    tmp = np.sum(w*x) + b\n",
    "    if tmp <= 0:\n",
    "        return 0\n",
    "    else:\n",
    "        return 1"
   ]
  },
  {
   "cell_type": "code",
   "execution_count": 3,
   "metadata": {},
   "outputs": [
    {
     "output_type": "stream",
     "name": "stdout",
     "text": "AND(0,0): 0\nAND(1,0): 0\nAND(0,1): 0\nAND(1,1): 1\n"
    }
   ],
   "source": [
    "print('AND(0,0):', AND(0, 0))\n",
    "print('AND(1,0):', AND(1, 0))\n",
    "print('AND(0,1):', AND(0, 1))\n",
    "print('AND(1,1):', AND(1, 1))"
   ]
  },
  {
   "cell_type": "markdown",
   "metadata": {},
   "source": [
    "## OR Gate:"
   ]
  },
  {
   "cell_type": "code",
   "execution_count": 4,
   "metadata": {},
   "outputs": [],
   "source": [
    "def OR(x1, x2):\n",
    "    x = np.array([x1, x2])\n",
    "    w = np.array([0.5, 0.5])\n",
    "    b = -0.2\n",
    "    tmp = np.sum(w*x) + b\n",
    "    if tmp <= 0:\n",
    "        return 0\n",
    "    else:\n",
    "        return 1"
   ]
  },
  {
   "cell_type": "code",
   "execution_count": 5,
   "metadata": {},
   "outputs": [
    {
     "output_type": "stream",
     "name": "stdout",
     "text": "OR(0,0): 0\nOR(1,0): 1\nOR(0,1): 1\nOR(1,1): 1\n"
    }
   ],
   "source": [
    "print('OR(0,0):', OR(0, 0))\n",
    "print('OR(1,0):', OR(1, 0))\n",
    "print('OR(0,1):', OR(0, 1))\n",
    "print('OR(1,1):', OR(1, 1))"
   ]
  },
  {
   "cell_type": "markdown",
   "metadata": {},
   "source": [
    "## NAND Gate:"
   ]
  },
  {
   "cell_type": "code",
   "execution_count": 6,
   "metadata": {},
   "outputs": [],
   "source": [
    "def NAND(x1, x2):\n",
    "    x = np.array([x1, x2])\n",
    "    w = np.array([-0.5, -0.5])\n",
    "    b = 0.7\n",
    "    tmp = np.sum(w*x) + b\n",
    "    if tmp <= 0:\n",
    "        return 0\n",
    "    else:\n",
    "        return 1"
   ]
  },
  {
   "cell_type": "code",
   "execution_count": 7,
   "metadata": {},
   "outputs": [
    {
     "output_type": "stream",
     "name": "stdout",
     "text": "NAND(0,0): 1\nNAND(1,0): 1\nNAND(0,1): 1\nNAND(1,1): 0\n"
    }
   ],
   "source": [
    "print('NAND(0,0):', NAND(0, 0))\n",
    "print('NAND(1,0):', NAND(1, 0))\n",
    "print('NAND(0,1):', NAND(0, 1))\n",
    "print('NAND(1,1):', NAND(1, 1))"
   ]
  },
  {
   "cell_type": "markdown",
   "metadata": {},
   "source": [
    "## XOR Gate:"
   ]
  },
  {
   "cell_type": "code",
   "execution_count": 8,
   "metadata": {},
   "outputs": [],
   "source": [
    "def XOR(x1,x2):\n",
    "    s1 = NAND(x1,x2)\n",
    "    s2 = OR(x1,x2)\n",
    "    y = AND(s1,s2)\n",
    "    return y"
   ]
  },
  {
   "cell_type": "code",
   "execution_count": 9,
   "metadata": {},
   "outputs": [
    {
     "output_type": "stream",
     "name": "stdout",
     "text": "XOR(0,0): 0\nXOR(1,0): 1\nXOR(0,1): 1\nXOR(1,1): 0\n"
    }
   ],
   "source": [
    "print('XOR(0,0):', XOR(0, 0))\n",
    "print('XOR(1,0):', XOR(1, 0))\n",
    "print('XOR(0,1):', XOR(0, 1))\n",
    "print('XOR(1,1):', XOR(1, 1))"
   ]
  },
  {
   "cell_type": "code",
   "execution_count": null,
   "metadata": {},
   "outputs": [],
   "source": []
  }
 ],
 "metadata": {
  "language_info": {
   "codemirror_mode": {
    "name": "ipython",
    "version": 3
   },
   "file_extension": ".py",
   "mimetype": "text/x-python",
   "name": "python",
   "nbconvert_exporter": "python",
   "pygments_lexer": "ipython3",
   "version": "3.7.7-final"
  },
  "orig_nbformat": 2,
  "kernelspec": {
   "name": "python37764bitmachinelearningconda5d2ece389eb44f258ccb0f73c676703c",
   "display_name": "Python 3.7.7 64-bit ('machine-learning': conda)"
  }
 },
 "nbformat": 4,
 "nbformat_minor": 2
}